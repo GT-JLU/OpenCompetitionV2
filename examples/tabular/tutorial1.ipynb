{
 "cells": [
  {
   "cell_type": "markdown",
   "metadata": {},
   "source": [
    "# Tutorial 1: Basic Tabular Data Mining Functionality \n",
    "In this tutorial, we demonstrate the basic functionalities for tabular data mining toolkit. Before proceeding with this tutorial, please pay attention to follow closely the installation requirement detailed in readme. \n",
    "\n",
    "Please pay attention that the goal of this tutorial is to demonstrate the functionality, **not to demonstrate the CORRECT data mining approach!**"
   ]
  },
  {
   "cell_type": "markdown",
   "metadata": {},
   "source": [
    "## Read and rename variables\n",
    "The data for this tutorial can be found in datafolder. This is a csv file with headers. The \"label\" column, which takes value 0 and 1, is the one we are going to predict. Other explanatory variables are named f0001, f0002 and so on.\n",
    "\n",
    "The first step is to differentiate continuous and discrete random variables. Note that in reality, not all variables can be classified this way (e.g. text and time). We are going to rename the variable so that we can easily manipulate the variables. "
   ]
  },
  {
   "cell_type": "code",
   "execution_count": 6,
   "metadata": {},
   "outputs": [],
   "source": [
    "import pandas as pd"
   ]
  },
  {
   "cell_type": "code",
   "execution_count": 8,
   "metadata": {},
   "outputs": [],
   "source": [
    "data = pd.read_csv(\"data_clean.csv\")"
   ]
  },
  {
   "cell_type": "code",
   "execution_count": null,
   "metadata": {},
   "outputs": [],
   "source": [
    "from open_competition.general.util import "
   ]
  }
 ],
 "metadata": {
  "kernelspec": {
   "display_name": "Python 3",
   "language": "python",
   "name": "python3"
  },
  "language_info": {
   "codemirror_mode": {
    "name": "ipython",
    "version": 3
   },
   "file_extension": ".py",
   "mimetype": "text/x-python",
   "name": "python",
   "nbconvert_exporter": "python",
   "pygments_lexer": "ipython3",
   "version": "3.7.4"
  }
 },
 "nbformat": 4,
 "nbformat_minor": 2
}
